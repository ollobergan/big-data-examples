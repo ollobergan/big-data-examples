{
 "cells": [
  {
   "cell_type": "markdown",
   "id": "eab9d40e-3050-44d4-b3b2-abf07cedef76",
   "metadata": {},
   "source": [
    "## Initialization"
   ]
  },
  {
   "cell_type": "code",
   "execution_count": null,
   "id": "d07c1030-eeac-4e2e-bd04-4d15c731a49c",
   "metadata": {},
   "outputs": [],
   "source": [
    "from pyspark.sql import SparkSession\n",
    "\n",
    "spark = SparkSession.builder \\\n",
    "    .appName(\"Hadoop Write Example\") \\\n",
    "    .config(\"spark.master\", \"local\") \\\n",
    "    .getOrCreate()\n"
   ]
  },
  {
   "cell_type": "markdown",
   "id": "039030e0-b27d-46cd-9ae6-8344bb9a7e2e",
   "metadata": {},
   "source": [
    "## Now we create dataframe"
   ]
  },
  {
   "cell_type": "code",
   "execution_count": 14,
   "id": "2743f1ff-d52f-4b0d-8116-9d599ef0dce1",
   "metadata": {},
   "outputs": [],
   "source": [
    "data = [(\"Alice\", 1), (\"Bob\", 2), (\"Cathy\", 3)]\n",
    "columns = [\"name\", \"id\"]\n",
    "\n",
    "df = spark.createDataFrame(data, schema=columns)"
   ]
  },
  {
   "cell_type": "markdown",
   "id": "2abecb90-553d-4bee-af62-aa26c12bfb7c",
   "metadata": {},
   "source": [
    "## Write data to Hadoop"
   ]
  },
  {
   "cell_type": "code",
   "execution_count": 20,
   "id": "92f60df2-db6f-4225-b579-fc67fadf1055",
   "metadata": {},
   "outputs": [],
   "source": [
    "output_path = \"hdfs://namenode:8020/example_data\"\n",
    "df.write.csv(path=output_path, header=True, mode=\"overwrite\")"
   ]
  },
  {
   "cell_type": "markdown",
   "id": "7beda4fa-e31c-49df-8566-583e85c48dee",
   "metadata": {},
   "source": [
    "## Now we check written data from Hadoop."
   ]
  },
  {
   "cell_type": "code",
   "execution_count": 21,
   "id": "3c3578b4-a201-4fd8-9047-c3652deb4ee0",
   "metadata": {},
   "outputs": [],
   "source": [
    "df2 = spark.read.csv(output_path, inferSchema=True, header=True)"
   ]
  },
  {
   "cell_type": "markdown",
   "id": "481e0602-7a47-4d48-9ab3-86ce4a28877f",
   "metadata": {},
   "source": [
    "## Show dataframe"
   ]
  },
  {
   "cell_type": "code",
   "execution_count": 22,
   "id": "fd4217d8-9aca-449e-9854-502068a51132",
   "metadata": {},
   "outputs": [
    {
     "name": "stdout",
     "output_type": "stream",
     "text": [
      "+-----+---+\n",
      "| name| id|\n",
      "+-----+---+\n",
      "|Alice|  1|\n",
      "|  Bob|  2|\n",
      "|Cathy|  3|\n",
      "+-----+---+\n",
      "\n"
     ]
    }
   ],
   "source": [
    "df2.show()"
   ]
  }
 ],
 "metadata": {
  "kernelspec": {
   "display_name": "Python 3 (ipykernel)",
   "language": "python",
   "name": "python3"
  },
  "language_info": {
   "codemirror_mode": {
    "name": "ipython",
    "version": 3
   },
   "file_extension": ".py",
   "mimetype": "text/x-python",
   "name": "python",
   "nbconvert_exporter": "python",
   "pygments_lexer": "ipython3",
   "version": "3.11.6"
  }
 },
 "nbformat": 4,
 "nbformat_minor": 5
}
